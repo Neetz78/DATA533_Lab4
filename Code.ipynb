{
 "cells": [
  {
   "cell_type": "code",
   "execution_count": 1,
   "id": "6ac01542-2e3d-4118-9be3-2fc86be2d6b8",
   "metadata": {},
   "outputs": [],
   "source": [
    "from recipes import recipe as r"
   ]
  },
  {
   "cell_type": "code",
   "execution_count": null,
   "id": "d6154cf7-1895-4a3f-a6e6-d6ae292e3358",
   "metadata": {},
   "outputs": [
    {
     "name": "stdout",
     "output_type": "stream",
     "text": [
      "Please select your food preference or type x to exit\n"
     ]
    },
    {
     "name": "stdin",
     "output_type": "stream",
     "text": [
      "Vegetarian or Non-Vegetarian: veg\n"
     ]
    },
    {
     "name": "stdout",
     "output_type": "stream",
     "text": [
      "Choose the difficulty level\n",
      "\n"
     ]
    },
    {
     "name": "stdin",
     "output_type": "stream",
     "text": [
      "Easy , Medium , Hard: e\n"
     ]
    },
    {
     "name": "stdout",
     "output_type": "stream",
     "text": [
      "Please select from the below ingredients:\n",
      "\n"
     ]
    },
    {
     "name": "stdin",
     "output_type": "stream",
     "text": [
      "('Bread', 'Milk', 'Flour', 'Rice', 'Carrot', 'Potato', 'Brocolli', 'Onion', 'Cheese', 'Oats', 'Lentils', 'Noodles', 'Pasta', 'Corn', 'Spinach'): Rice\n"
     ]
    },
    {
     "name": "stdout",
     "output_type": "stream",
     "text": [
      "Choose one dish from below choices:\n",
      "\n"
     ]
    },
    {
     "name": "stdin",
     "output_type": "stream",
     "text": [
      "['Flavoured rice', 'Porridge']: Porridge\n"
     ]
    },
    {
     "name": "stdout",
     "output_type": "stream",
     "text": [
      "Recipe blog link:  https://www.allrecipes.com/recipe/73155/porridge/ \n",
      "\n",
      "Youtube video link:  https://www.youtube.com/watch?v=ywkEGKXk2cQ \n",
      "\n",
      "Do you want to know the calorie count?\n",
      "\n"
     ]
    }
   ],
   "source": [
    "r.recipe()"
   ]
  },
  {
   "cell_type": "code",
   "execution_count": null,
   "id": "a7c5e3fb-c7ff-4352-8296-e974f2c6dafe",
   "metadata": {},
   "outputs": [],
   "source": []
  }
 ],
 "metadata": {
  "kernelspec": {
   "display_name": "Python 3",
   "language": "python",
   "name": "python3"
  },
  "language_info": {
   "codemirror_mode": {
    "name": "ipython",
    "version": 3
   },
   "file_extension": ".py",
   "mimetype": "text/x-python",
   "name": "python",
   "nbconvert_exporter": "python",
   "pygments_lexer": "ipython3",
   "version": "3.9.5"
  }
 },
 "nbformat": 4,
 "nbformat_minor": 5
}
